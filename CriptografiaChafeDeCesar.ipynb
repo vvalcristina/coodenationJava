{
  "nbformat": 4,
  "nbformat_minor": 0,
  "metadata": {
    "colab": {
      "name": "CriptografiaChafeDeCesar.ipynb",
      "provenance": [],
      "authorship_tag": "ABX9TyNQ+a7SEkDCJloPLiJQFm3c",
      "include_colab_link": true
    },
    "kernelspec": {
      "name": "python3",
      "display_name": "Python 3"
    }
  },
  "cells": [
    {
      "cell_type": "markdown",
      "metadata": {
        "id": "view-in-github",
        "colab_type": "text"
      },
      "source": [
        "<a href=\"https://colab.research.google.com/github/vvalcristina/coodenationJava/blob/master/CriptografiaChafeDeCesar.ipynb\" target=\"_parent\"><img src=\"https://colab.research.google.com/assets/colab-badge.svg\" alt=\"Open In Colab\"/></a>"
      ]
    },
    {
      "cell_type": "code",
      "metadata": {
        "id": "YE6NAu4P6aLM",
        "colab_type": "code",
        "colab": {}
      },
      "source": [
        "import requests"
      ],
      "execution_count": 0,
      "outputs": []
    },
    {
      "cell_type": "code",
      "metadata": {
        "id": "RLjx3gO26ig9",
        "colab_type": "code",
        "colab": {}
      },
      "source": [
        "import json"
      ],
      "execution_count": 0,
      "outputs": []
    },
    {
      "cell_type": "code",
      "metadata": {
        "id": "g6yVmwTZ6kxo",
        "colab_type": "code",
        "colab": {}
      },
      "source": [
        "import hashlib"
      ],
      "execution_count": 0,
      "outputs": []
    },
    {
      "cell_type": "code",
      "metadata": {
        "id": "qTld7An66pPX",
        "colab_type": "code",
        "colab": {}
      },
      "source": [
        "request = requests.get('https://api.codenation.dev/v1/challenge/dev-ps/generate-data?token=18c58a1c57e4d0420f264965f0a2741c41e6fc09')\n"
      ],
      "execution_count": 0,
      "outputs": []
    },
    {
      "cell_type": "code",
      "metadata": {
        "id": "U5szF2tc6wSl",
        "colab_type": "code",
        "colab": {}
      },
      "source": [
        "resposta = request.json()"
      ],
      "execution_count": 0,
      "outputs": []
    },
    {
      "cell_type": "code",
      "metadata": {
        "id": "fegcGWG67M1q",
        "colab_type": "code",
        "colab": {}
      },
      "source": [
        "arquivo = open('answer.json', \"w\")"
      ],
      "execution_count": 0,
      "outputs": []
    },
    {
      "cell_type": "code",
      "metadata": {
        "id": "H47YrwEV7N_d",
        "colab_type": "code",
        "colab": {}
      },
      "source": [
        "json.dump(resposta, arquivo)"
      ],
      "execution_count": 0,
      "outputs": []
    },
    {
      "cell_type": "code",
      "metadata": {
        "id": "hWk5IOHD7Qfv",
        "colab_type": "code",
        "colab": {}
      },
      "source": [
        "arquivo.close()\n"
      ],
      "execution_count": 0,
      "outputs": []
    },
    {
      "cell_type": "code",
      "metadata": {
        "id": "nkDdRej-7SXI",
        "colab_type": "code",
        "colab": {}
      },
      "source": [
        "msg = resposta['cifrado']"
      ],
      "execution_count": 0,
      "outputs": []
    },
    {
      "cell_type": "code",
      "metadata": {
        "id": "cw1fkLYk7VVB",
        "colab_type": "code",
        "colab": {}
      },
      "source": [
        "s = ''"
      ],
      "execution_count": 0,
      "outputs": []
    },
    {
      "cell_type": "code",
      "metadata": {
        "id": "Mx09TfQB7WYY",
        "colab_type": "code",
        "colab": {}
      },
      "source": [
        "for c in msg:\n",
        "    if chr(ord(c)).isidentifier():\n",
        "        if (ord(c) - resposta['numero_casas']) < 97:\n",
        "            s += chr(ord(c) - resposta['numero_casas'] + 26)\n",
        "        else:\n",
        "            s += chr(ord(c) - resposta['numero_casas'])\n",
        "    else:\n",
        "        s += chr(ord(c))\n"
      ],
      "execution_count": 0,
      "outputs": []
    },
    {
      "cell_type": "code",
      "metadata": {
        "id": "YwOrPFdw_vt9",
        "colab_type": "code",
        "colab": {}
      },
      "source": [
        "dados = {\n",
        "    'numero_casas': resposta['numero_casas'],\n",
        "    'token': resposta['token'],\n",
        "    'cifrado': resposta['cifrado'],\n",
        "    'decifrado': s,\n",
        "    'resumo_criptografico': hashlib.sha1(s.encode()).hexdigest()\n",
        "}\n",
        "\n"
      ],
      "execution_count": 0,
      "outputs": []
    },
    {
      "cell_type": "code",
      "metadata": {
        "id": "iUqLuu5z_CMV",
        "colab_type": "code",
        "colab": {}
      },
      "source": [
        "arquivo = open('answer.json', \"w\")\n",
        "json.dump(dados, arquivo)\n",
        "arquivo.close()\n"
      ],
      "execution_count": 0,
      "outputs": []
    },
    {
      "cell_type": "code",
      "metadata": {
        "id": "3u5di23H7bbE",
        "colab_type": "code",
        "colab": {
          "base_uri": "https://localhost:8080/",
          "height": 34
        },
        "outputId": "049c67e3-d7f0-4185-ff7f-ae5863b7ecf1"
      },
      "source": [
        "\n",
        "url = 'https://api.codenation.dev/v1/challenge/dev-ps/submit-solution?token=18c58a1c57e4d0420f264965f0a2741c41e6fc09'\n",
        "files = {'answer': open('answer.json', 'rb')}\n",
        "r = requests.post(url, files=files)\n",
        "r.text\n"
      ],
      "execution_count": 14,
      "outputs": [
        {
          "output_type": "execute_result",
          "data": {
            "text/plain": [
              "'{\"score\":100}\\n'"
            ]
          },
          "metadata": {
            "tags": []
          },
          "execution_count": 14
        }
      ]
    }
  ]
}